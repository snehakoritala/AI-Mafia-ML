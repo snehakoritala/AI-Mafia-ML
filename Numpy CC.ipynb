{
 "cells": [
  {
   "cell_type": "code",
   "execution_count": 1,
   "id": "242c6fd7-6462-419e-9cb1-311cff76a5dd",
   "metadata": {},
   "outputs": [],
   "source": [
    "import numpy as np"
   ]
  },
  {
   "cell_type": "code",
   "execution_count": 3,
   "id": "5b747519-668b-47a0-b4e7-da445fb936b0",
   "metadata": {},
   "outputs": [
    {
     "name": "stdout",
     "output_type": "stream",
     "text": [
      "Array is of type:  <class 'numpy.ndarray'>\n",
      "No. of dimensions:  2\n",
      "Shape of array:  (2, 3)\n",
      "Size of array:  6\n",
      "Array stores elements of type:  int32\n"
     ]
    }
   ],
   "source": [
    "arr = np.array([[ 1, 2, 3],\n",
    "                [ 4, 5, 6]])\n",
    "print(\"Array is of type: \", type(arr))\n",
    "print(\"No. of dimensions: \", arr.ndim)\n",
    "print(\"Shape of array: \", arr.shape)\n",
    "print(\"Size of array: \", arr.size)\n",
    "print(\"Array stores elements of type: \", arr.dtype)"
   ]
  },
  {
   "cell_type": "code",
   "execution_count": 5,
   "id": "cdde2d10-a679-4eac-b6cd-314dc361e150",
   "metadata": {},
   "outputs": [
    {
     "name": "stdout",
     "output_type": "stream",
     "text": [
      "Array created using passed list:\n",
      " [[1. 2. 4.]\n",
      " [5. 8. 7.]]\n",
      "\n",
      "Array created using passed tuple:\n",
      " [1 3 2]\n",
      "\n",
      "An array initialized with all zeros:\n",
      " [[0. 0. 0. 0.]\n",
      " [0. 0. 0. 0.]\n",
      " [0. 0. 0. 0.]]\n",
      "\n",
      "An array initialized with all 6s. Array type is complex:\n",
      " [[6.+0.j 6.+0.j 6.+0.j]\n",
      " [6.+0.j 6.+0.j 6.+0.j]\n",
      " [6.+0.j 6.+0.j 6.+0.j]]\n"
     ]
    }
   ],
   "source": [
    "a = np.array([[1, 2, 4], [5, 8, 7]], dtype = 'float')\n",
    "print(\"Array created using passed list:\\n\", a)\n",
    "b = np.array((1 , 3, 2))\n",
    "print(\"\\nArray created using passed tuple:\\n\", b)\n",
    "c = np.zeros((3, 4))\n",
    "print(\"\\nAn array initialized with all zeros:\\n\", c)\n",
    "d = np.full((3, 3), 6, dtype = 'complex')\n",
    "print(\"\\nAn array initialized with all 6s. Array type is complex:\\n\", d)"
   ]
  },
  {
   "cell_type": "code",
   "execution_count": 7,
   "id": "718843b9-3095-4400-be15-3d5df143eee6",
   "metadata": {},
   "outputs": [
    {
     "name": "stdout",
     "output_type": "stream",
     "text": [
      "\n",
      "A random array:\n",
      " [[0.81413745 0.55489365]\n",
      " [0.43699142 0.83276527]]\n",
      "\n",
      "A sequential array with steps of 5:\n",
      " [ 0  5 10 15 20 25]\n",
      "\n",
      "A sequential array with 10 values between 0 and 5:\n",
      " [0.         0.55555556 1.11111111 1.66666667 2.22222222 2.77777778\n",
      " 3.33333333 3.88888889 4.44444444 5.        ]\n",
      "\n",
      "Original array:\n",
      " [[1 2 3 4]\n",
      " [5 2 4 2]\n",
      " [1 2 0 1]]\n",
      "Reshaped array:\n",
      " [[[1 2 3]\n",
      "  [4 5 2]]\n",
      "\n",
      " [[4 2 1]\n",
      "  [2 0 1]]]\n",
      "\n",
      "Original array:\n",
      " [[1 2 3]\n",
      " [4 5 6]]\n",
      "Fattened array:\n",
      " [1 2 3 4 5 6]\n"
     ]
    }
   ],
   "source": [
    "e = np.random.random((2,2))\n",
    "print(\"\\nA random array:\\n\", e)\n",
    "f = np.arange(0, 30, 5)\n",
    "print(\"\\nA sequential array with steps of 5:\\n\", f)\n",
    "g = np.linspace(0, 5, 10)\n",
    "print(\"\\nA sequential array with 10 values between 0 and 5:\\n\", g)\n",
    "arr = np.array([[1, 2, 3, 4],\n",
    "                [5, 2, 4, 2],\n",
    "                [1, 2, 0, 1]])\n",
    "newarr = arr.reshape(2, 2, 3)\n",
    "print(\"\\nOriginal array:\\n\", arr)\n",
    "print(\"Reshaped array:\\n\", newarr)\n",
    "arr = np.array([[1, 2, 3], [4, 5, 6]])\n",
    "flarr = arr.flatten()\n",
    "print(\"\\nOriginal array:\\n\", arr)\n",
    "print(\"Fattened array:\\n\", flarr)"
   ]
  },
  {
   "cell_type": "code",
   "execution_count": 9,
   "id": "2ed9e90a-6eb9-47e0-a774-f89b0e19ab83",
   "metadata": {},
   "outputs": [
    {
     "name": "stdout",
     "output_type": "stream",
     "text": [
      "Array with first 2 rows and alternate columns(0 and 2):\n",
      " [[-1.  0.]\n",
      " [ 4.  6.]]\n",
      "\n",
      "Elements at indices (0, 3), (1, 2), (2, 1), (3, 0):\n",
      " [4. 6. 0. 3.]\n",
      "\n",
      "Elements greater than 0:\n",
      " [2.  4.  4.  6.  2.6 7.  8.  3.  4.  2. ]\n"
     ]
    }
   ],
   "source": [
    "arr1 = np.array([[-1, 2, 0, 4],\n",
    "                [4, -0.5, 6, 0],\n",
    "                [2.6, 0, 7, 8],\n",
    "                [3, -7, 4, 2.0]])\n",
    "temp = arr1[:2, ::2]\n",
    "print(\"Array with first 2 rows and alternate columns(0 and 2):\\n\", temp)\n",
    "temp = arr1[[0, 1, 2, 3], [3, 2, 1, 0]]\n",
    "print(\"\\nElements at indices (0, 3), (1, 2), (2, 1), (3, 0):\\n\", temp)\n",
    "cond = arr1 > 0    \n",
    "temp = arr1[cond]\n",
    "print(\"\\nElements greater than 0:\\n\", temp)"
   ]
  },
  {
   "cell_type": "code",
   "execution_count": 11,
   "id": "e55f4991-e319-440e-a940-67324fdcdd4e",
   "metadata": {},
   "outputs": [
    {
     "name": "stdout",
     "output_type": "stream",
     "text": [
      "Adding 1 to every element: [2 3 6 4]\n",
      "Subtracting 3 from each element: [-2 -1  2  0]\n",
      "Multiplying each element by 10: [10 20 50 30]\n",
      "Squaring each element: [ 1  4 25  9]\n",
      "Doubled each element of original array: [ 2  4 10  6]\n",
      "\n",
      "Original array:\n",
      " [[1 2 3]\n",
      " [3 4 5]\n",
      " [9 6 0]]\n",
      "Transpose of array:\n",
      " [[1 3 9]\n",
      " [2 4 6]\n",
      " [3 5 0]]\n"
     ]
    }
   ],
   "source": [
    "a1 = np.array([1, 2, 5, 3])\n",
    "print(\"Adding 1 to every element:\", a1+1)\n",
    "print(\"Subtracting 3 from each element:\", a1-3)\n",
    "print(\"Multiplying each element by 10:\", a1*10)\n",
    "print(\"Squaring each element:\", a1**2)\n",
    "a1 *= 2\n",
    "print(\"Doubled each element of original array:\", a1)\n",
    "a1 = np.array([[1, 2, 3], [3, 4, 5], [9, 6, 0]])\n",
    "print(\"\\nOriginal array:\\n\", a1)\n",
    "print(\"Transpose of array:\\n\", a1.T)"
   ]
  },
  {
   "cell_type": "code",
   "execution_count": 13,
   "id": "070d829d-f20c-41e2-81e6-62156862d67c",
   "metadata": {},
   "outputs": [
    {
     "name": "stdout",
     "output_type": "stream",
     "text": [
      "Largest element is: 9\n",
      "Row-wise maximum elements: [6 7 9]\n",
      "Column-wise minimum elements: [1 1 2]\n",
      "Sum of all array elements: 38\n",
      "Cumulative sum along each row:\n",
      " [[ 1  6 12]\n",
      " [ 4 11 13]\n",
      " [ 3  4 13]]\n"
     ]
    }
   ],
   "source": [
    "arr2 = np.array([[1, 5, 6], \n",
    "                [4, 7, 2], \n",
    "                [3, 1, 9]])\n",
    "print(\"Largest element is:\", arr2.max())\n",
    "print(\"Row-wise maximum elements:\", arr2.max(axis = 1))\n",
    "print(\"Column-wise minimum elements:\", arr2.min(axis = 0))\n",
    "print(\"Sum of all array elements:\", arr2.sum())\n",
    "print(\"Cumulative sum along each row:\\n\", arr2.cumsum(axis = 1))"
   ]
  },
  {
   "cell_type": "code",
   "execution_count": 15,
   "id": "57832ca9-5558-473c-850c-7fadbb5973dd",
   "metadata": {},
   "outputs": [
    {
     "name": "stdout",
     "output_type": "stream",
     "text": [
      "Array sum:\n",
      " [[5 5]\n",
      " [5 5]]\n",
      "Array multiplication:\n",
      " [[4 6]\n",
      " [6 4]]\n",
      "Matrix multiplication:\n",
      " [[ 8  5]\n",
      " [20 13]]\n"
     ]
    }
   ],
   "source": [
    "a2 = np.array([[1, 2], \n",
    "              [3, 4]])\n",
    "b2 = np.array([[4, 3], \n",
    "              [2, 1]])\n",
    "print(\"Array sum:\\n\", a2 + b2)\n",
    "print(\"Array multiplication:\\n\", a2*b2)\n",
    "print(\"Matrix multiplication:\\n\", a2.dot(b2))"
   ]
  },
  {
   "cell_type": "code",
   "execution_count": 17,
   "id": "1f648653-a777-4fa0-a231-1ff19bd2094a",
   "metadata": {},
   "outputs": [
    {
     "name": "stdout",
     "output_type": "stream",
     "text": [
      "Sine values of array elements: [0.0000000e+00 1.0000000e+00 1.2246468e-16]\n",
      "Exponent of array elements: [ 1.          2.71828183  7.3890561  20.08553692]\n",
      "Square root of array elements: [0.         1.         1.41421356 1.73205081]\n"
     ]
    }
   ],
   "source": [
    "a3 = np.array([0, np.pi/2, np.pi])\n",
    "print(\"Sine values of array elements:\", np.sin(a3))\n",
    "a3 = np.array([0, 1, 2, 3])\n",
    "print(\"Exponent of array elements:\", np.exp(a3))\n",
    "print(\"Square root of array elements:\", np.sqrt(a3))"
   ]
  },
  {
   "cell_type": "code",
   "execution_count": 19,
   "id": "286fa2b0-7727-4d32-b187-80433bd31cea",
   "metadata": {},
   "outputs": [
    {
     "name": "stdout",
     "output_type": "stream",
     "text": [
      "Array elements in sorted order:\n",
      " [-1  0  1  2  3  4  4  5  6]\n",
      "Row-wise sorted array:\n",
      " [[ 1  2  4]\n",
      " [ 3  4  6]\n",
      " [-1  0  5]]\n",
      "Column wise sort by applying merge-sort:\n",
      " [[ 0 -1  2]\n",
      " [ 1  4  5]\n",
      " [ 3  4  6]]\n",
      "\n",
      "Array sorted by names:\n",
      " [(b'Aakash', 2009, 9. ) (b'Ajay', 2008, 8.7) (b'Hrithik', 2009, 8.5)\n",
      " (b'Pankaj', 2008, 7.9)]\n",
      "Array sorted by grauation year and then cgpa:\n",
      " [(b'Pankaj', 2008, 7.9) (b'Ajay', 2008, 8.7) (b'Hrithik', 2009, 8.5)\n",
      " (b'Aakash', 2009, 9. )]\n"
     ]
    }
   ],
   "source": [
    "a4 = np.array([[1, 4, 2],\n",
    "              [3, 4,6],\n",
    "              [0, -1, 5]])\n",
    "print(\"Array elements in sorted order:\\n\", np.sort(a4, axis = None))\n",
    "print(\"Row-wise sorted array:\\n\", np.sort(a4, axis = 1))\n",
    "print(\"Column wise sort by applying merge-sort:\\n\", np.sort(a4, axis = 0, kind = 'mergesort'))\n",
    "dtypes = [('name', 'S10'), ('grad_year', int), ('cgpa', float)]\n",
    "values = [('Hrithik', 2009, 8.5), ('Ajay', 2008, 8.7), ('Pankaj', 2008, 7.9), ('Aakash', 2009, 9.0)]\n",
    "arr4 = np.array(values, dtype = dtypes)\n",
    "print(\"\\nArray sorted by names:\\n\", np.sort(arr4, order = 'name'))\n",
    "print(\"Array sorted by grauation year and then cgpa:\\n\", np.sort(arr4, order = ['grad_year', 'cgpa']))"
   ]
  },
  {
   "cell_type": "code",
   "execution_count": 21,
   "id": "ab7fabd4-3666-45bc-806d-e6ef72ea26f5",
   "metadata": {},
   "outputs": [
    {
     "name": "stdout",
     "output_type": "stream",
     "text": [
      "Vertical stacking:\n",
      " [[1 2]\n",
      " [3 4]\n",
      " [5 6]\n",
      " [7 8]]\n",
      "\n",
      "Horizontal stacking:\n",
      " [[1 2 5 6]\n",
      " [3 4 7 8]]\n",
      "\n",
      "Column stacking:\n",
      " [[1 2 5]\n",
      " [3 4 6]]\n",
      "\n",
      "Concatenating to 2nd axis:\n",
      " [[1 2 5 6]\n",
      " [3 4 7 8]]\n"
     ]
    }
   ],
   "source": [
    "a5 = np.array([[1, 2],\n",
    "              [3, 4]])\n",
    "\n",
    "b5 = np.array([[5, 6],\n",
    "              [7, 8]])\n",
    "print(\"Vertical stacking:\\n\", np.vstack((a5, b5)))\n",
    "print(\"\\nHorizontal stacking:\\n\", np.hstack((a5, b5)))\n",
    "c2 = [5, 6]\n",
    "print(\"\\nColumn stacking:\\n\", np.column_stack((a5, c2)))\n",
    "print(\"\\nConcatenating to 2nd axis:\\n\", np.concatenate((a5, b5), 1))"
   ]
  },
  {
   "cell_type": "code",
   "execution_count": 23,
   "id": "a6fd4ee3-6523-47b3-ac61-b1c33022415e",
   "metadata": {},
   "outputs": [
    {
     "name": "stdout",
     "output_type": "stream",
     "text": [
      "Splitting along horizontal axis into 2 parts:\n",
      " [array([[1, 3, 5],\n",
      "       [2, 4, 6]]), array([[ 7,  9, 11],\n",
      "       [ 8, 10, 12]])]\n",
      "\n",
      "Splitting along vertical axis into 2 parts:\n",
      " [array([[ 1,  3,  5,  7,  9, 11]]), array([[ 2,  4,  6,  8, 10, 12]])]\n"
     ]
    }
   ],
   "source": [
    "a6 = np.array([[1, 3, 5, 7, 9, 11],\n",
    "              [2, 4, 6, 8, 10, 12]])\n",
    "print(\"Splitting along horizontal axis into 2 parts:\\n\", np.hsplit(a6, 2))\n",
    "print(\"\\nSplitting along vertical axis into 2 parts:\\n\", np.vsplit(a6, 2))"
   ]
  },
  {
   "cell_type": "code",
   "execution_count": 25,
   "id": "680e5dba-d22d-491c-b407-fa1944af07b4",
   "metadata": {},
   "outputs": [
    {
     "name": "stdout",
     "output_type": "stream",
     "text": [
      "[[1 2 3 4]\n",
      " [7 6 2 0]]\n",
      "0\n",
      "[1 2 2 0]\n",
      "[1 0]\n"
     ]
    }
   ],
   "source": [
    "a7 = np.array([[1,2,3,4],[7,6,2,0]])\n",
    "print(a7)\n",
    "print(np.min(a7))\n",
    "print(np.min(a7,axis=0))\n",
    "print(np.min(a7,axis=1))"
   ]
  },
  {
   "cell_type": "code",
   "execution_count": 29,
   "id": "a99da904-abcc-42f5-8201-05d3124db233",
   "metadata": {},
   "outputs": [
    {
     "name": "stdout",
     "output_type": "stream",
     "text": [
      "3.0\n",
      "3.0\n",
      "[4.  4.  2.5 2. ]\n",
      "[2.5  3.75]\n"
     ]
    }
   ],
   "source": [
    "i = np.array([1,2,3,4,5])\n",
    "m = sum(i)/5\n",
    "print(m)\n",
    "print(np.mean(i))\n",
    "print(np.mean(a7,axis=0))\n",
    "print(np.mean(a7,axis=1))"
   ]
  },
  {
   "cell_type": "code",
   "execution_count": 31,
   "id": "fb1298d0-c216-4510-8b66-98ee8b5eee60",
   "metadata": {},
   "outputs": [
    {
     "name": "stdout",
     "output_type": "stream",
     "text": [
      "2.0\n",
      "2.4\n",
      "2.4\n",
      "1.854723699099141\n",
      "1.854723699099141\n",
      "3.440000000000001\n",
      "3.4400000000000004\n"
     ]
    }
   ],
   "source": [
    "j = np.array([1,5,4,2,0])\n",
    "print(np.median(j))\n",
    "print(np.mean(j))\n",
    "w = np.array([1,1,1,1,1])\n",
    "print(np.average(j,weights=w))\n",
    "u = np.mean(j)\n",
    "myStd = np.sqrt(np.mean(abs(j-u)**2))\n",
    "print(myStd)\n",
    "dev= np.std(j)\n",
    "print(dev)\n",
    "print(myStd**2)\n",
    "print(np.var(j))"
   ]
  },
  {
   "cell_type": "code",
   "execution_count": 33,
   "id": "5f741f4d-8065-4caf-807e-1d23c5953ab3",
   "metadata": {},
   "outputs": [
    {
     "name": "stdout",
     "output_type": "stream",
     "text": [
      "[ 5  6  7  8  9 10 11 12 13 14]\n",
      "[ 7 14 11  9  5  8  6 12 13 10]\n",
      "[[ 1.5827523  -1.04514683  0.25759352]\n",
      " [-1.9593946  -1.50780766 -0.31529207]]\n",
      "[7 9 6]\n",
      "4\n"
     ]
    }
   ],
   "source": [
    "k = np.arange(10) + 5\n",
    "print(k)\n",
    "np.random.seed(1)\n",
    "np.random.shuffle(k)\n",
    "print(k)\n",
    "k = np.random.randn(2,3)\n",
    "print(k)\n",
    "k = np.random.randint(5,10,3)\n",
    "print(k)\n",
    "element = np.random.choice([1,4,3,2,11,27])\n",
    "print(element)"
   ]
  },
  {
   "cell_type": "code",
   "execution_count": null,
   "id": "b96bb1b1-8fe6-4566-a1a5-70b19c287cc2",
   "metadata": {},
   "outputs": [],
   "source": []
  }
 ],
 "metadata": {
  "kernelspec": {
   "display_name": "Python 3 (ipykernel)",
   "language": "python",
   "name": "python3"
  },
  "language_info": {
   "codemirror_mode": {
    "name": "ipython",
    "version": 3
   },
   "file_extension": ".py",
   "mimetype": "text/x-python",
   "name": "python",
   "nbconvert_exporter": "python",
   "pygments_lexer": "ipython3",
   "version": "3.12.4"
  }
 },
 "nbformat": 4,
 "nbformat_minor": 5
}
